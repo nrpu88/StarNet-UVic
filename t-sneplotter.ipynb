{
 "cells": [
  {
   "cell_type": "code",
   "execution_count": 1,
   "metadata": {},
   "outputs": [
    {
     "name": "stderr",
     "output_type": "stream",
     "text": [
      "/home/nrpu88/jupyter_py3/lib/python3.6/site-packages/pysynphot/locations.py:46: UserWarning: PYSYN_CDBS is undefined; functionality will be SEVERELY crippled.\n",
      "  warnings.warn(\"PYSYN_CDBS is undefined; functionality will be SEVERELY \"\n",
      "/home/nrpu88/jupyter_py3/lib/python3.6/site-packages/pysynphot/locations.py:329: UserWarning: Extinction files not found in extinction\n",
      "  warnings.warn('Extinction files not found in %s' % (extdir, ))\n",
      "/home/nrpu88/jupyter_py3/lib/python3.6/site-packages/pysynphot/refs.py:118: UserWarning: No graph or component tables found; functionality will be SEVERELY crippled. No files found for ftp://ftp.stsci.edu/cdbs/mtab/*_tmg.fits\n",
      "  'functionality will be SEVERELY crippled. ' + str(e))\n",
      "/home/nrpu88/jupyter_py3/lib/python3.6/site-packages/pysynphot/refs.py:125: UserWarning: No thermal tables found, no thermal calculations can be performed. No files found for ftp://ftp.stsci.edu/cdbs/mtab/*_tmt.fits\n",
      "  'no thermal calculations can be performed. ' + str(e))\n"
     ]
    }
   ],
   "source": [
    "import os, sys\n",
    "sys.path.insert(0, os.path.join(os.getenv('HOME'), 'StarNet'))\n",
    "import numpy as np\n",
    "import h5py\n",
    "import matplotlib.pyplot as plt\n",
    "import seaborn as sns\n",
    "from astropy.io import fits as pyfits\n",
    "import umap\n",
    "from sklearn.datasets import load_iris\n",
    "\n",
    "from sklearn.datasets import fetch_mldata\n",
    "from sklearn.decomposition import PCA\n",
    "import hdbscan\n",
    "import sklearn.cluster as cluster\n",
    "from sklearn.metrics import adjusted_rand_score, adjusted_mutual_info_score\n",
    "\n",
    "\n",
    "from starnet.utils.data_utils.augment import convolve_spectrum\n",
    "from starnet.utils.data_utils.restructure_spectrum import rebin, continuum_normalize, ensure_constant_sampling\n"
   ]
  },
  {
   "cell_type": "code",
   "execution_count": 2,
   "metadata": {},
   "outputs": [],
   "source": [
    "# Define parameters needed for continuum fitting\n",
    "LINE_REGIONS = [[4210, 4240], [4250, 4410], [4333, 4388], [4845, 4886], [5160, 5200], [5874, 5916], [6530, 6590]]\n",
    "SEGMENTS_STEP = 10.  # divide the spectrum into segments of 10 Angstroms"
   ]
  },
  {
   "cell_type": "code",
   "execution_count": 21,
   "metadata": {},
   "outputs": [],
   "source": [
    "home = os.getenv('HOME')\n",
    "scratch = os.getenv('SCRATCH')\n",
    "starnet_data_folder = os.path.join(home, 'StarNet/starnet/data/')\n",
    "intrigoss_grid_path = os.path.join(home, 'projects/rrg-kyi/group_writable/spectra/grids/intrigoss/train/') \n",
    "phoenix_grid_path = os.path.join(home, 'projects/rrg-kyi/group_writable/spectra/grids/phoenix.astro.physik.uni-goettingen.de/v2.0/HiResFITS/PHOENIX-ACES-AGSS-COND-2011/train/') \n",
    "phoenix_wave_path = home+'/'+'/projects/rrg-kyi/group_writable/spectra/grids/phoenix.astro.physik.uni-goettingen.de/v2.0/HiResFITS/PHOENIX-ACES-AGSS-COND-2011/'\n",
    "ambre_grid_path = os.path.join(home, 'projects/rrg-kyi/group_writable/spectra/grids/AMBRE/train/')\n",
    "obs_wave_filepath = os.path.join(home, 'projects/rrg-kyi/group_writable/spectra/UVES_4835-5395.npy')\n",
    "wave_grid_obs = np.load(obs_wave_filepath)"
   ]
  },
  {
   "cell_type": "markdown",
   "metadata": {},
   "source": [
    "### Create functions for loading Phoenix and INTRIGOSS spectra"
   ]
  },
  {
   "cell_type": "markdown",
   "metadata": {},
   "source": [
    "#### Phoenix..."
   ]
  },
  {
   "cell_type": "code",
   "execution_count": 31,
   "metadata": {},
   "outputs": [],
   "source": [
    "def get_phoenix_spectrum(spectrum_path, wave_grid_path):\n",
    "    \n",
    "    \"\"\"\n",
    "    Given the path of a Phoenix spectrum .fits file, this function retrieves the flux and wavelength data\n",
    "    \n",
    "    INPUT: path: The path to the Phoenix spectrum file, e.g. '/path/to/lte04000-1.00-1.0.Alpha=+0.50.PHOENIX-ACES-AGSS-COND-2011-HiRes.fits'\n",
    "    \n",
    "    RETURNS: wav: wavelength data\n",
    "             flux: flux data\n",
    "    \"\"\"\n",
    "    \n",
    "    hdulist_spectrum = pyfits.open(spectrum_path)\n",
    "    hdulist_wavegrid = pyfits.open(wave_grid_path)\n",
    "    \n",
    "    flux = hdulist_spectrum[0].data\n",
    "    wav = hdulist_wavegrid[0].data\n",
    "    \n",
    "    # For Phoenix, need to convert from vacuum to air wavelengths.\n",
    "    # The IAU standard for conversion from air to vacuum wavelengths is given\n",
    "    # in Morton (1991, ApJS, 77, 119). For vacuum wavelengths (VAC) in\n",
    "    # Angstroms, convert to air wavelength (AIR) via:\n",
    "    #  AIR = VAC / (1.0 + 2.735182E-4 + 131.4182 / VAC^2 + 2.76249E8 / VAC^4)\n",
    "    wav = wav / (\n",
    "            1.0 + 2.735182E-4 + 131.4182 / wav ** 2 + 2.76249E8 / wav ** 4)\n",
    "    \n",
    "    return wav, flux"
   ]
  },
  {
   "cell_type": "markdown",
   "metadata": {},
   "source": [
    "#### INTRIGOSS..."
   ]
  },
  {
   "cell_type": "code",
   "execution_count": 57,
   "metadata": {},
   "outputs": [],
   "source": [
    "def get_intrigoss_spectrum(path):\n",
    "    \n",
    "    \"\"\"\n",
    "    Given the path of an INTRIGOSS spectrum .fits file, this function retrieves the flux and wavelength data\n",
    "    \n",
    "    INPUT: path: The path to the INTRIGOSS spectrum file, e.g. '/path/to/alpp050_am100_t4000g10_v1_f.fits'\n",
    "    \n",
    "    RETURNS: wav: wavelength data\n",
    "             flux: flux data\n",
    "    \"\"\"\n",
    "    \n",
    "    hdulist = pyfits.open(path)\n",
    "    flux_data = hdulist[1].data\n",
    "    \n",
    "    wav = flux_data['wavelength']\n",
    "    flux = flux_data['surface_flux']\n",
    "    \n",
    "    return wav, flux"
   ]
  },
  {
   "cell_type": "code",
   "execution_count": 45,
   "metadata": {},
   "outputs": [],
   "source": [
    "def get_ambre_spectrum(path):\n",
    "    \n",
    "    \"\"\"\n",
    "    Given the path of an AMBRE spectrum .fits file, this function retrieves the flux and wavelength data\n",
    "    \n",
    "    INPUT: path: The path to the AMBRE spectrum file, e.g. '/path/to/alpp050_am100_t4000g10_v1_f.AMBRE'\n",
    "    \n",
    "    RETURNS: wav: wavelength data\n",
    "             flux: flux data\n",
    "    \"\"\"\n",
    "    flux = np.genfromtxt(path,usecols=-1)\n",
    "    wav = np.genfromtxt(path,usecols= 0)\n",
    "    \n",
    "    return wav, flux"
   ]
  },
  {
   "cell_type": "markdown",
   "metadata": {},
   "source": [
    "### Define requested stellar parameters"
   ]
  },
  {
   "cell_type": "code",
   "execution_count": 47,
   "metadata": {},
   "outputs": [],
   "source": [
    "def intrigoss_one_file(name):\n",
    "\n",
    "\n",
    "    wav_intrigoss,flux_intrigoss = get_intrigoss_spectrum(intrigoss_grid_path+name)\n",
    "\n",
    "    return wav_intrigoss,flux_intrigoss"
   ]
  },
  {
   "cell_type": "code",
   "execution_count": 48,
   "metadata": {},
   "outputs": [],
   "source": [
    "def phoenix_one_file(name):\n",
    "\n",
    "\n",
    "    wavegrid_path = os.path.join(phoenix_wave_path, 'WAVE_PHOENIX-ACES-AGSS-COND-2011.fits')\n",
    "    wav_phoenix, flux_phoenix = get_phoenix_spectrum(phoenix_grid_path+name, wavegrid_path)\n",
    "\n",
    "\n",
    "    return wav_phoenix,flux_phoenix"
   ]
  },
  {
   "cell_type": "code",
   "execution_count": 49,
   "metadata": {},
   "outputs": [],
   "source": [
    "def ambre_one_file(name):\n",
    "\n",
    "    wav_ambre, flux_ambre = get_ambre_spectrum(ambre_grid_path+name)\n",
    "    \n",
    "\n",
    "    return wav_ambre,flux_ambre"
   ]
  },
  {
   "cell_type": "code",
   "execution_count": 50,
   "metadata": {},
   "outputs": [],
   "source": [
    "def pre_processor_phoenix(wav_phoenix,flux_phoenix):\n",
    "\n",
    "\n",
    "# Trim the wavelength and flux arrays according to observed wave grid\n",
    "    extension = 10  # Angstroms\n",
    "    wave_min_request = wave_grid_obs[0] - extension\n",
    "    wave_max_request = wave_grid_obs[-1] + extension\n",
    "    #wave_indices_intrigoss = (wav_intrigoss > wave_min_request) & (wav_intrigoss < wave_max_request)\n",
    "    wave_indices_phoenix = (wav_phoenix > wave_min_request) & (wav_phoenix < wave_max_request)\n",
    "    #wave_indices_ambre = (wav_ambre > wave_min_request) & (wav_ambre < wave_max_request)\n",
    "    #wav_intrigoss = wav_intrigoss[wave_indices_intrigoss]\n",
    "    wav_phoenix = wav_phoenix[wave_indices_phoenix]\n",
    "    #wav_ambre = wav_ambre[wave_indices_ambre]\n",
    "    #flux_intrigoss = flux_intrigoss[wave_indices_intrigoss]\n",
    "    flux_phoenix = flux_phoenix[wave_indices_phoenix]\n",
    "    #flux_ambre = flux_ambre[wave_indices_ambre]\n",
    "\n",
    "# Degrade resolution\n",
    "    #err_intrigoss = np.zeros(len(flux_intrigoss))\n",
    "    err_phoenix = np.zeros(len(flux_phoenix))\n",
    "    #err_ambre = np.zeros(len(flux_ambre))\n",
    "    #_, flux_intrigoss, _ = convolve_spectrum(wav_intrigoss, flux_intrigoss, err_intrigoss, to_resolution=47000)\n",
    "    _, flux_phoenix, _ = convolve_spectrum(wav_phoenix, flux_phoenix, err_phoenix, to_resolution=47000)\n",
    "    #_, flux_ambre, _ = convolve_spectrum(wav_ambre, flux_ambre, err_ambre, to_resolution=47000)\n",
    "\n",
    "# Rebin to UVES wave grid\n",
    "    #flux_intrigoss = rebin(wave_grid_obs, wav_intrigoss, flux_intrigoss)\n",
    "    flux_phoenix = rebin(wave_grid_obs, wav_phoenix, flux_phoenix)\n",
    "    #flux_ambre = rebin(wave_grid_obs, wav_ambre, flux_ambre)\n",
    "\n",
    "# Continuum normalize the spectra\n",
    "    #flux_intrigoss, _ = continuum_normalize(flux_intrigoss, LINE_REGIONS, wave_grid_obs, SEGMENTS_STEP)\n",
    "    flux_phoenix, _ = continuum_normalize(flux_phoenix, LINE_REGIONS, wave_grid_obs, SEGMENTS_STEP)\n",
    "    #flux_ambre, _ = continuum_normalize(flux_ambre, LINE_REGIONS, wave_grid_obs, SEGMENTS_STEP)\n",
    "\n",
    "    #print('DONE')\n",
    "    \n",
    "    return flux_phoenix\n",
    "\n",
    "# Mask telluric lines\n",
    "#flux_intrigoss = mask_tellurics('telluric_lines.txt', flux_intrigoss, wave_grid_obs\n",
    "#flux_phoenix = mask_tellurics('telluric_lines.txt', flux_phoenix, wave_grid_obs)\n",
    "#flux_ambre = mask_tellurics('telluric_lines.txt', flux_ambre, wave_grid_obs)"
   ]
  },
  {
   "cell_type": "code",
   "execution_count": 55,
   "metadata": {},
   "outputs": [],
   "source": [
    "def pre_processor_intrigoss(wav_intrigoss,flux_intrigoss):\n",
    "\n",
    "\n",
    "# Trim the wavelength and flux arrays according to observed wave grid\n",
    "    extension = 10  # Angstroms\n",
    "    wave_min_request = wave_grid_obs[0] - extension\n",
    "    wave_max_request = wave_grid_obs[-1] + extension\n",
    "    wave_indices_intrigoss = (wav_intrigoss > wave_min_request) & (wav_intrigoss < wave_max_request)\n",
    "    #wave_indices_phoenix = (wav_phoenix > wave_min_request) & (wav_phoenix < wave_max_request)\n",
    "    #wave_indices_ambre = (wav_ambre > wave_min_request) & (wav_ambre < wave_max_request)\n",
    "    wav_intrigoss = wav_intrigoss[wave_indices_intrigoss]\n",
    "    #wav_phoenix = wav_phoenix[wave_indices_phoenix]\n",
    "    #wav_ambre = wav_ambre[wave_indices_ambre]\n",
    "    flux_intrigoss = flux_intrigoss[wave_indices_intrigoss]\n",
    "    #flux_phoenix = flux_phoenix[wave_indices_phoenix]\n",
    "    #flux_ambre = flux_ambre[wave_indices_ambre]\n",
    "\n",
    "# Degrade resolution\n",
    "    err_intrigoss = np.zeros(len(flux_intrigoss))\n",
    "    #err_phoenix = np.zeros(len(flux_phoenix))\n",
    "    #err_ambre = np.zeros(len(flux_ambre))\n",
    "    _, flux_intrigoss, _ = convolve_spectrum(wav_intrigoss, flux_intrigoss, err_intrigoss, to_resolution=47000)\n",
    "    #_, flux_phoenix, _ = convolve_spectrum(wav_phoenix, flux_phoenix, err_phoenix, to_resolution=47000)\n",
    "    #_, flux_ambre, _ = convolve_spectrum(wav_ambre, flux_ambre, err_ambre, to_resolution=47000)\n",
    "\n",
    "# Rebin to UVES wave grid\n",
    "    flux_intrigoss = rebin(wave_grid_obs, wav_intrigoss, flux_intrigoss)\n",
    "    #flux_phoenix = rebin(wave_grid_obs, wav_phoenix, flux_phoenix)\n",
    "    #flux_ambre = rebin(wave_grid_obs, wav_ambre, flux_ambre)\n",
    "\n",
    "# Continuum normalize the spectra\n",
    "    flux_intrigoss, _ = continuum_normalize(flux_intrigoss, LINE_REGIONS, wave_grid_obs, SEGMENTS_STEP)\n",
    "    #flux_phoenix, _ = continuum_normalize(flux_phoenix, LINE_REGIONS, wave_grid_obs, SEGMENTS_STEP)\n",
    "    #flux_ambre, _ = continuum_normalize(flux_ambre, LINE_REGIONS, wave_grid_obs, SEGMENTS_STEP)\n",
    "\n",
    "    #print('DONE')\n",
    "    \n",
    "    return flux_intrigoss\n",
    "\n",
    "# Mask telluric lines\n",
    "#flux_intrigoss = mask_tellurics('telluric_lines.txt', flux_intrigoss, wave_grid_obs\n",
    "#flux_phoenix = mask_tellurics('telluric_lines.txt', flux_phoenix, wave_grid_obs)\n",
    "#flux_ambre = mask_tellurics('telluric_lines.txt', flux_ambre, wave_grid_obs)"
   ]
  },
  {
   "cell_type": "code",
   "execution_count": null,
   "metadata": {},
   "outputs": [],
   "source": [
    "def pre_processor_ambre(wav_ambre,flux_ambre):\n",
    "\n",
    "\n",
    "# Trim the wavelength and flux arrays according to observed wave grid\n",
    "    extension = 10  # Angstroms\n",
    "    wave_min_request = wave_grid_obs[0] - extension\n",
    "    wave_max_request = wave_grid_obs[-1] + extension\n",
    "    #wave_indices_intrigoss = (wav_intrigoss > wave_min_request) & (wav_intrigoss < wave_max_request)\n",
    "    #wave_indices_phoenix = (wav_phoenix > wave_min_request) & (wav_phoenix < wave_max_request)\n",
    "    wave_indices_ambre = (wav_ambre > wave_min_request) & (wav_ambre < wave_max_request)\n",
    "    #wav_intrigoss = wav_intrigoss[wave_indices_intrigoss]\n",
    "    #wav_phoenix = wav_phoenix[wave_indices_phoenix]\n",
    "    wav_ambre = wav_ambre[wave_indices_ambre]\n",
    "    #flux_intrigoss = flux_intrigoss[wave_indices_intrigoss]\n",
    "    #flux_phoenix = flux_phoenix[wave_indices_phoenix]\n",
    "    flux_ambre = flux_ambre[wave_indices_ambre]\n",
    "\n",
    "# Degrade resolution\n",
    "    #err_intrigoss = np.zeros(len(flux_intrigoss))\n",
    "    #err_phoenix = np.zeros(len(flux_phoenix))\n",
    "    err_ambre = np.zeros(len(flux_ambre))\n",
    "    #_, flux_intrigoss, _ = convolve_spectrum(wav_intrigoss, flux_intrigoss, err_intrigoss, to_resolution=47000)\n",
    "    #_, flux_phoenix, _ = convolve_spectrum(wav_phoenix, flux_phoenix, err_phoenix, to_resolution=47000)\n",
    "    _, flux_ambre, _ = convolve_spectrum(wav_ambre, flux_ambre, err_ambre, to_resolution=47000)\n",
    "\n",
    "# Rebin to UVES wave grid\n",
    "    #flux_intrigoss = rebin(wave_grid_obs, wav_intrigoss, flux_intrigoss)\n",
    "    #flux_phoenix = rebin(wave_grid_obs, wav_phoenix, flux_phoenix)\n",
    "    flux_ambre = rebin(wave_grid_obs, wav_ambre, flux_ambre)\n",
    "\n",
    "# Continuum normalize the spectra\n",
    "    #flux_intrigoss, _ = continuum_normalize(flux_intrigoss, LINE_REGIONS, wave_grid_obs, SEGMENTS_STEP)\n",
    "    #flux_phoenix, _ = continuum_normalize(flux_phoenix, LINE_REGIONS, wave_grid_obs, SEGMENTS_STEP)\n",
    "    flux_ambre, _ = continuum_normalize(flux_ambre, LINE_REGIONS, wave_grid_obs, SEGMENTS_STEP)\n",
    "\n",
    "    #print('DONE')\n",
    "    \n",
    "    return flux_ambre\n",
    "\n",
    "# Mask telluric lines\n",
    "#flux_intrigoss = mask_tellurics('telluric_lines.txt', flux_intrigoss, wave_grid_obs\n",
    "#flux_phoenix = mask_tellurics('telluric_lines.txt', flux_phoenix, wave_grid_obs)\n",
    "#flux_ambre = mask_tellurics('telluric_lines.txt', flux_ambre, wave_grid_obs)"
   ]
  },
  {
   "cell_type": "code",
   "execution_count": 65,
   "metadata": {},
   "outputs": [
    {
     "name": "stderr",
     "output_type": "stream",
     "text": [
      "WARNING: Input data contains invalid values (NaNs or infs), which were automatically masked. [astropy.stats.sigma_clipping]\n",
      "/home/nrpu88/jupyter_py3/lib/python3.6/site-packages/astropy/stats/sigma_clipping.py:165: RuntimeWarning: invalid value encountered in greater\n",
      "  _filtered_data.mask |= _filtered_data > max_value\n",
      "/home/nrpu88/jupyter_py3/lib/python3.6/site-packages/astropy/stats/sigma_clipping.py:166: RuntimeWarning: invalid value encountered in less\n",
      "  _filtered_data.mask |= _filtered_data < min_value\n"
     ]
    },
    {
     "name": "stdout",
     "output_type": "stream",
     "text": [
      "DONE\n",
      "DONE\n",
      "DONE\n",
      "DONE\n",
      "DONE\n",
      "DONE\n",
      "DONE\n",
      "DONE\n",
      "DONE\n",
      "DONE\n",
      "(10, 39436)\n"
     ]
    }
   ],
   "source": [
    "f_p = []\n",
    "p_count = 0\n",
    "for root, dirs, files in os.walk(phoenix_grid_path):\n",
    "    for name in files:\n",
    "        wav_phoenix,flux_phoenix = phoenix_one_file(name)\n",
    "        f_p.append(pre_processor_phoenix(wav_phoenix,flux_phoenix))\n",
    "        p_count = p_count + 1 \n",
    "        if p_count >= 10:\n",
    "            break\n",
    "f_p = np.asarray(f_p)\n",
    "print(f_p.shape)"
   ]
  },
  {
   "cell_type": "code",
   "execution_count": 66,
   "metadata": {},
   "outputs": [
    {
     "name": "stdout",
     "output_type": "stream",
     "text": [
      "DONE\n",
      "DONE\n",
      "DONE\n",
      "DONE\n",
      "DONE\n",
      "DONE\n",
      "DONE\n",
      "DONE\n",
      "DONE\n",
      "DONE\n",
      "(10, 39436)\n"
     ]
    }
   ],
   "source": [
    "f_a = []\n",
    "a_count = 0\n",
    "for root, dirs, files in os.walk(ambre_grid_path):\n",
    "    for name in files:\n",
    "        wav_ambre,flux_ambre = ambre_one_file(name)\n",
    "        f_a.append(pre_processor_ambre(wav_ambre,flux_ambre))\n",
    "        a_count = a_count + 1 \n",
    "        if a_count >= 10:\n",
    "            break\n",
    "f_a = np.asarray(f_a)\n",
    "print(f_a.shape)"
   ]
  },
  {
   "cell_type": "code",
   "execution_count": 67,
   "metadata": {},
   "outputs": [
    {
     "name": "stdout",
     "output_type": "stream",
     "text": [
      "DONE\n",
      "DONE\n",
      "DONE\n",
      "DONE\n",
      "DONE\n",
      "DONE\n",
      "DONE\n",
      "DONE\n",
      "DONE\n",
      "DONE\n",
      "(10, 39436)\n"
     ]
    }
   ],
   "source": [
    "f_i = []\n",
    "i_count = 0\n",
    "for root, dirs, files in os.walk(intrigoss_grid_path):\n",
    "    for name in files:\n",
    "        wav_intrigoss,flux_intrigoss = intrigoss_one_file(name)\n",
    "        f_i.append(pre_processor_intrigoss(wav_intrigoss,flux_intrigoss))\n",
    "        i_count = i_count + 1 \n",
    "        if i_count >= 10:\n",
    "            break\n",
    "f_i = np.asarray(f_i)\n",
    "print(f_i.shape)"
   ]
  },
  {
   "cell_type": "code",
   "execution_count": 68,
   "metadata": {},
   "outputs": [
    {
     "name": "stdout",
     "output_type": "stream",
     "text": [
      "(30, 39436)\n"
     ]
    }
   ],
   "source": [
    "grid_data = []\n",
    "for i in f_i:\n",
    "    grid_data.append(i)\n",
    "for j in f_p:\n",
    "    grid_data.append(j)\n",
    "for k in f_a:\n",
    "    grid_data.append(k)\n",
    "\n",
    "grid_data = np.asarray(grid_data)\n",
    "print(grid_data.shape)\n"
   ]
  },
  {
   "cell_type": "markdown",
   "metadata": {},
   "source": [
    "### Load in the spectra, degrade resolution, rebin to UVES, and then continuum normalize"
   ]
  },
  {
   "cell_type": "markdown",
   "metadata": {},
   "source": [
    "### Plot spectra"
   ]
  },
  {
   "cell_type": "code",
   "execution_count": 71,
   "metadata": {},
   "outputs": [],
   "source": [
    "reducer = umap.UMAP(init = 'random')"
   ]
  },
  {
   "cell_type": "code",
   "execution_count": 72,
   "metadata": {},
   "outputs": [
    {
     "data": {
      "text/plain": [
       "(30, 2)"
      ]
     },
     "execution_count": 72,
     "metadata": {},
     "output_type": "execute_result"
    }
   ],
   "source": [
    "embedding = reducer.fit_transform(grid_data)\n",
    "embedding.shape"
   ]
  },
  {
   "cell_type": "code",
   "execution_count": 74,
   "metadata": {},
   "outputs": [
    {
     "name": "stdout",
     "output_type": "stream",
     "text": [
      "[0, 0, 0, 0, 0, 0, 0, 0, 0, 0, 1, 1, 1, 1, 1, 1, 1, 1, 1, 1, 2, 2, 2, 2, 2, 2, 2, 2, 2, 2]\n"
     ]
    },
    {
     "data": {
      "image/png": "[encoded data removed]",
      "text/plain": [
       "<Figure size 432x288 with 1 Axes>"
      ]
     },
     "metadata": {
      "needs_background": "light"
     },
     "output_type": "display_data"
    }
   ],
   "source": [
    "grid_target=[]\n",
    "for i in range(10):\n",
    "    grid_target.append(0)\n",
    "for j in range(10):\n",
    "    grid_target.append(1)\n",
    "for k in range(10):\n",
    "    grid_target.append(2)\n",
    "\n",
    "#print(grid_target)\n",
    "\n",
    "\n",
    "plt.scatter(embedding[:, 0], embedding[:, 1], c=[sns.color_palette()[x] for x in grid_target])\n",
    "plt.gca().set_aspect('equal', 'datalim')\n",
    "plt.title('UMAP projection of the 3 grids', fontsize=10);"
   ]
  },
  {
   "cell_type": "code",
   "execution_count": null,
   "metadata": {},
   "outputs": [],
   "source": []
  }
 ],
 "metadata": {
  "kernelspec": {
   "display_name": "Python 3",
   "language": "python",
   "name": "python3"
  },
  "language_info": {
   "codemirror_mode": {
    "name": "ipython",
    "version": 3
   },
   "file_extension": ".py",
   "mimetype": "text/x-python",
   "name": "python",
   "nbconvert_exporter": "python",
   "pygments_lexer": "ipython3",
   "version": "3.6.3"
  }
 },
 "nbformat": 4,
 "nbformat_minor": 2
}
