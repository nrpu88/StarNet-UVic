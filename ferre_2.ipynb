{
 "cells": [
  {
   "cell_type": "code",
   "execution_count": 1,
   "metadata": {},
   "outputs": [],
   "source": [
    "import numpy as np\n",
    "import h5py \n",
    "import pandas as pd\n",
    "import os"
   ]
  },
  {
   "cell_type": "code",
   "execution_count": 12,
   "metadata": {},
   "outputs": [],
   "source": [
    "try:\n",
    "    import cPickle as pickle\n",
    "except ModuleNotFoundError:\n",
    "    import pickle"
   ]
  },
  {
   "cell_type": "code",
   "execution_count": 3,
   "metadata": {},
   "outputs": [
    {
     "name": "stdout",
     "output_type": "stream",
     "text": [
      "(360, 1303109)\n"
     ]
    }
   ],
   "source": [
    "scratch = os.getenv('SCRATCH')\n",
    "file = '/f_2.dat'\n",
    "path = scratch+file\n",
    "f = np.loadtxt(path)\n",
    "print(f.shape)"
   ]
  },
  {
   "cell_type": "code",
   "execution_count": 4,
   "metadata": {},
   "outputs": [],
   "source": [
    "feh_ll = -5\n",
    "teff_ll = 5500\n",
    "logg_ll = 1.0\n",
    "\n",
    "feh_ul = 1\n",
    "teff_ul = 8500\n",
    "logg_ul = 6\n",
    "\n",
    "feh_steps = 0.5\n",
    "teff_steps = 500\n",
    "logg_steps = 1"
   ]
  },
  {
   "cell_type": "code",
   "execution_count": 5,
   "metadata": {},
   "outputs": [
    {
     "name": "stdout",
     "output_type": "stream",
     "text": [
      "Assigning wavelength array\n"
     ]
    }
   ],
   "source": [
    "feh_range = np.arange(feh_ll,feh_ul,feh_steps)\n",
    "teff_range = np.arange(teff_ll,teff_ul,teff_steps)\n",
    "logg_range = np.arange(logg_ll,logg_ul,logg_steps)\n",
    "\n",
    "#print(feh_range)\n",
    "#print(teff_range)\n",
    "#print(logg_range)\n",
    "\n",
    "alpha = 0\n",
    "npix = 1303109\n",
    "\n",
    "wav_a = 3.11394275450217\n",
    "wav_b = 1.3037842524215e-06\n",
    "\n",
    "wav_fun = []\n",
    "\n",
    "print(\"Assigning wavelength array\")\n",
    "\n",
    "for i in range(npix):\n",
    "#\tprint(i)\n",
    "\twav_fun.append(10**(wav_a + wav_b*(i)))"
   ]
  },
  {
   "cell_type": "code",
   "execution_count": 6,
   "metadata": {},
   "outputs": [
    {
     "name": "stdout",
     "output_type": "stream",
     "text": [
      "Entering loop\n"
     ]
    }
   ],
   "source": [
    "#print(wav_fun[:10])\n",
    "\n",
    "#param_set = [0,-5,3500,0,[1000,4.566e-2],[1001,4.566e-2]]\n",
    "#print(param_set[4])\n",
    "\n",
    "ferre_2 = []\n",
    "param_set = []\n",
    "\n",
    "indx = 0\n",
    "\n",
    "flux_count = 0\n",
    "\n",
    "print(\"Entering loop\")\n",
    "\n",
    "for i in feh_range:\n",
    "    for j in teff_range:\n",
    "        for k in logg_range:\n",
    "            param_set = []\n",
    "            w = 0\n",
    "            \n",
    "            param_set.append(indx)\n",
    "\t\t\t#if indx > 20:\n",
    "\t\t\t#\tbreak\n",
    "            param_set.append(i)\n",
    "            param_set.append(j)\n",
    "            param_set.append(k)\n",
    "            for l in wav_fun:\n",
    "\t\t\t\t#cn = 0\n",
    "                pair = []\n",
    "                pair.append(l)\n",
    "                pair.append(f[flux_count][w])\n",
    "                #print(\"count:\" + str(cn))\n",
    "                param_set.append(pair)\n",
    "                pair = []\n",
    "                w = w + 1\n",
    "                #cn = cn + 1\n",
    "            flux_count = flux_count + 1\n",
    "            ferre_2.append(param_set)\n",
    "            indx = indx + 1\n",
    "\t\t\t#param_set.append() "
   ]
  },
  {
   "cell_type": "code",
   "execution_count": 7,
   "metadata": {},
   "outputs": [
    {
     "name": "stdout",
     "output_type": "stream",
     "text": [
      "[[0 -5.0 5500 ... list([64999.77248931864, 456.519])\n",
      "  list([64999.96762375046, 456.514]) list([65000.16275876809, 456.509])]\n",
      " [1 -5.0 5500 ... list([64999.77248931864, 453.3])\n",
      "  list([64999.96762375046, 453.295]) list([65000.16275876809, 453.29])]\n",
      " [2 -5.0 5500 ... list([64999.77248931864, 451.308])\n",
      "  list([64999.96762375046, 451.303]) list([65000.16275876809, 451.298])]\n",
      " ...\n",
      " [357 0.5 8000 ... list([64999.77248931864, 667.305])\n",
      "  list([64999.96762375046, 667.298]) list([65000.16275876809, 667.291])]\n",
      " [358 0.5 8000 ... list([64999.77248931864, 673.92])\n",
      "  list([64999.96762375046, 673.915]) list([65000.16275876809, 673.909])]\n",
      " [359 0.5 8000 ... list([64999.77248931864, 678.062])\n",
      "  list([64999.96762375046, 678.064]) list([65000.16275876809, 678.064])]]\n",
      "(360, 1303113)\n"
     ]
    }
   ],
   "source": [
    "ferre_2 = np.asarray(ferre_2)\n",
    "\n",
    "print(ferre_2)\n",
    "\n",
    "print(ferre_2.shape)\n",
    "#print(np.dtype(ferre_1))\n",
    "\n",
    "#print(wav_fun[npix-1])"
   ]
  },
  {
   "cell_type": "code",
   "execution_count": null,
   "metadata": {},
   "outputs": [],
   "source": [
    "file_name = 'ferre_2_100'\n",
    "\n",
    "save_path = scratch + '/' + file_name\n",
    "\n",
    "with open(save_path, 'wb') as ferre1_file:\n",
    " \n",
    "  # Step 3\n",
    "  pickle.dump(ferre_2[:100], ferre1_file)\n",
    "\n",
    "print(\"First 100 saved!!\")"
   ]
  },
  {
   "cell_type": "code",
   "execution_count": null,
   "metadata": {},
   "outputs": [],
   "source": [
    "file_name = 'ferre_2_100_200'\n",
    "\n",
    "save_path = scratch + '/' + file_name\n",
    "\n",
    "with open(save_path, 'wb') as ferre1_file:\n",
    " \n",
    "  # Step 3\n",
    "  pickle.dump(ferre_2[100:200], ferre1_file)\n",
    "\n",
    "print(\" 100 to 200  saved!!\")"
   ]
  },
  {
   "cell_type": "code",
   "execution_count": null,
   "metadata": {},
   "outputs": [],
   "source": [
    "file_name = 'ferre_2_200_360'\n",
    "\n",
    "save_path = scratch + '/' + file_name\n",
    "\n",
    "with open(save_path, 'wb') as ferre1_file:\n",
    " \n",
    "  # Step 3\n",
    "  pickle.dump(ferre_2[200:], ferre1_file)\n",
    "\n",
    "print(\" 200 to 360  saved!!\")"
   ]
  },
  {
   "cell_type": "code",
   "execution_count": null,
   "metadata": {},
   "outputs": [],
   "source": [
    "import os \n",
    "\n",
    "scratch = os.getenv('SCRATCH')\n",
    "file_name = 'ferre_5750_8000_100'\n",
    "file_name1 = 'ferre_3500_6000_100'\n",
    "save_path = scratch +'/'+ file_name1\n",
    " \n",
    "# Step 2\n",
    "with open(save_path, 'rb') as ferre2_file:\n",
    " \n",
    "    # Step 3\n",
    "    ferre_2_re = pickle.load(ferre2_file)\n",
    " \n",
    "    # After config_dictionary is read from file\n",
    "print(ferre_2_re.shape)"
   ]
  },
  {
   "cell_type": "code",
   "execution_count": null,
   "metadata": {},
   "outputs": [],
   "source": [
    "\n",
    "\n",
    "def ferre_plotter(ferre_1_re):\n",
    "    wav = []\n",
    "    flux = []\n",
    "    #print(ferre_1_re[0])\n",
    "    \n",
    "    #print(ferre_1_re[0][4])\n",
    "\n",
    "\n",
    "\n",
    "    for i in ferre_1_re[0][4:]:\n",
    "        wav.append(i[0])\n",
    "        flux.append(i[1])\n",
    "    \n",
    "    return wav,flux"
   ]
  },
  {
   "cell_type": "code",
   "execution_count": 2,
   "metadata": {},
   "outputs": [
    {
     "ename": "NameError",
     "evalue": "name 'ferre_plotter' is not defined",
     "output_type": "error",
     "traceback": [
      "\u001b[0;31m---------------------------------------------------------------------------\u001b[0m",
      "\u001b[0;31mNameError\u001b[0m                                 Traceback (most recent call last)",
      "\u001b[0;32m<ipython-input-2-e9de547370b2>\u001b[0m in \u001b[0;36m<module>\u001b[0;34m\u001b[0m\n\u001b[0;32m----> 1\u001b[0;31m \u001b[0mwav\u001b[0m\u001b[0;34m,\u001b[0m\u001b[0mflux\u001b[0m \u001b[0;34m=\u001b[0m \u001b[0mferre_plotter\u001b[0m\u001b[0;34m(\u001b[0m\u001b[0mferre_2_re\u001b[0m\u001b[0;34m)\u001b[0m\u001b[0;34m\u001b[0m\u001b[0m\n\u001b[0m",
      "\u001b[0;31mNameError\u001b[0m: name 'ferre_plotter' is not defined"
     ]
    }
   ],
   "source": [
    "wav,flux = ferre_plotter(ferre_2_re)"
   ]
  },
  {
   "cell_type": "code",
   "execution_count": 4,
   "metadata": {},
   "outputs": [
    {
     "ename": "NameError",
     "evalue": "name 'wav' is not defined",
     "output_type": "error",
     "traceback": [
      "\u001b[0;31m---------------------------------------------------------------------------\u001b[0m",
      "\u001b[0;31mNameError\u001b[0m                                 Traceback (most recent call last)",
      "\u001b[0;32m<ipython-input-4-fe452018e2e1>\u001b[0m in \u001b[0;36m<module>\u001b[0;34m\u001b[0m\n\u001b[1;32m      7\u001b[0m \u001b[0;32mfor\u001b[0m \u001b[0mi\u001b[0m \u001b[0;32min\u001b[0m \u001b[0mrange\u001b[0m\u001b[0;34m(\u001b[0m\u001b[0;36m118466\u001b[0m\u001b[0;34m)\u001b[0m\u001b[0;34m:\u001b[0m\u001b[0;34m\u001b[0m\u001b[0m\n\u001b[1;32m      8\u001b[0m     \u001b[0;31m#if wav[i] >= 4835 and wav[i] >= 5395:\u001b[0m\u001b[0;34m\u001b[0m\u001b[0;34m\u001b[0m\u001b[0m\n\u001b[0;32m----> 9\u001b[0;31m         \u001b[0mwav_ferre\u001b[0m\u001b[0;34m.\u001b[0m\u001b[0mappend\u001b[0m\u001b[0;34m(\u001b[0m\u001b[0mwav\u001b[0m\u001b[0;34m[\u001b[0m\u001b[0mi\u001b[0m\u001b[0;34m]\u001b[0m\u001b[0;34m)\u001b[0m\u001b[0;34m\u001b[0m\u001b[0m\n\u001b[0m\u001b[1;32m     10\u001b[0m         \u001b[0mflux_ferre\u001b[0m\u001b[0;34m.\u001b[0m\u001b[0mappend\u001b[0m\u001b[0;34m(\u001b[0m\u001b[0mflux\u001b[0m\u001b[0;34m[\u001b[0m\u001b[0mi\u001b[0m\u001b[0;34m]\u001b[0m\u001b[0;34m)\u001b[0m\u001b[0;34m\u001b[0m\u001b[0m\n\u001b[1;32m     11\u001b[0m \u001b[0;34m\u001b[0m\u001b[0m\n",
      "\u001b[0;31mNameError\u001b[0m: name 'wav' is not defined"
     ]
    }
   ],
   "source": [
    "import numpy as np\n",
    "#wave_grid_obs = np.linspace(4835,5395,num=10000)\n",
    "\n",
    "wav_ferre = []\n",
    "flux_ferre = []\n",
    "\n",
    "for i in range(118466):\n",
    "    #if wav[i] >= 4835 and wav[i] >= 5395:\n",
    "        wav_ferre.append(wav[i])\n",
    "        flux_ferre.append(flux[i])\n",
    "        \n",
    "\n",
    "\n",
    "#flux_bench, cont = continuum_normalize(flux, line_regions, wave_grid_uves, 10)"
   ]
  },
  {
   "cell_type": "code",
   "execution_count": null,
   "metadata": {},
   "outputs": [],
   "source": [
    "print(len(wav_ferre))\n",
    "print(len(flux_ferre))\n",
    "\n"
   ]
  },
  {
   "cell_type": "code",
   "execution_count": null,
   "metadata": {},
   "outputs": [],
   "source": [
    "import matplotlib.pyplot as plt\n",
    "\n",
    "%matplotlib inline\n",
    "plt.plot(wav_ferre,flux_ferre)\n",
    "plt.figure(figsize=(10,10))"
   ]
  },
  {
   "cell_type": "code",
   "execution_count": null,
   "metadata": {},
   "outputs": [],
   "source": []
  }
 ],
 "metadata": {
  "kernelspec": {
   "display_name": "Python 3",
   "language": "python",
   "name": "python3"
  },
  "language_info": {
   "codemirror_mode": {
    "name": "ipython",
    "version": 3
   },
   "file_extension": ".py",
   "mimetype": "text/x-python",
   "name": "python",
   "nbconvert_exporter": "python",
   "pygments_lexer": "ipython3",
   "version": "3.6.3"
  }
 },
 "nbformat": 4,
 "nbformat_minor": 2
}
