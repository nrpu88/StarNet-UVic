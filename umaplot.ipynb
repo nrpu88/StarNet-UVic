{
 "cells": [
  {
   "cell_type": "code",
   "execution_count": 16,
   "metadata": {},
   "outputs": [],
   "source": [
    "import os\n",
    "import numpy as np\n",
    "import h5py"
   ]
  },
  {
   "cell_type": "code",
   "execution_count": 32,
   "metadata": {},
   "outputs": [],
   "source": [
    "from sklearn.datasets import fetch_mldata\n",
    "from sklearn.decomposition import PCA\n",
    "import hdbscan\n",
    "import sklearn.cluster as cluster\n",
    "from sklearn.metrics import adjusted_rand_score, adjusted_mutual_info_score"
   ]
  },
  {
   "cell_type": "code",
   "execution_count": 34,
   "metadata": {},
   "outputs": [],
   "source": [
    "import umap"
   ]
  },
  {
   "cell_type": "code",
   "execution_count": 17,
   "metadata": {},
   "outputs": [],
   "source": [
    "filepath1 = '/home/nrpu88/StarNet-UVic/intri2000'\n",
    "filepath2 = '/home/nrpu88/StarNet-UVic/intri2000_1'\n",
    "filepath3 = '/home/nrpu88/StarNet-UVic/intri2000_2_1'\n",
    "filepath4 = '/home/nrpu88/StarNet-UVic/intri2000_2_2'\n",
    "filepath5 = '/home/nrpu88/StarNet-UVic/intri2000_3'\n"
   ]
  },
  {
   "cell_type": "code",
   "execution_count": 18,
   "metadata": {},
   "outputs": [],
   "source": [
    "f1 = h5py.File(filepath1, 'r')\n",
    "f2 = h5py.File(filepath2, 'r')\n",
    "f3 = h5py.File(filepath3, 'r')\n",
    "f4 = h5py.File(filepath4, 'r')\n",
    "f5 = h5py.File(filepath5, 'r')\n"
   ]
  },
  {
   "cell_type": "code",
   "execution_count": 19,
   "metadata": {},
   "outputs": [],
   "source": [
    "dset1_a = f1['ambre_flux']\n",
    "dset1_p = f1['phoenix_flux']\n",
    "dset1_i = f1['intrigoss_flux']"
   ]
  },
  {
   "cell_type": "code",
   "execution_count": 20,
   "metadata": {},
   "outputs": [],
   "source": [
    "dset2_a = f2['ambre_flux']\n",
    "dset2_p = f2['phoenix_flux']\n",
    "dset2_i = f2['intrigoss_flux']"
   ]
  },
  {
   "cell_type": "code",
   "execution_count": 21,
   "metadata": {},
   "outputs": [],
   "source": [
    "dset3_a = f3['ambre_flux']\n",
    "dset3_p = f3['phoenix_flux']\n",
    "dset3_i = f3['intrigoss_flux']"
   ]
  },
  {
   "cell_type": "code",
   "execution_count": 22,
   "metadata": {},
   "outputs": [],
   "source": [
    "dset4_a = f4['ambre_flux']\n",
    "dset4_p = f4['phoenix_flux']\n",
    "dset4_i = f4['intrigoss_flux']"
   ]
  },
  {
   "cell_type": "code",
   "execution_count": 23,
   "metadata": {},
   "outputs": [],
   "source": [
    "dset5_a = f5['ambre_flux']\n",
    "dset5_p = f5['phoenix_flux']\n",
    "dset5_i = f5['intrigoss_flux']"
   ]
  },
  {
   "cell_type": "code",
   "execution_count": 24,
   "metadata": {},
   "outputs": [],
   "source": [
    "flux_a_fin = []\n",
    "flux_p_fin = []\n",
    "flux_i_fin = []\n",
    "\n",
    "for i in dset1_a:\n",
    "    flux_a_fin.append(i)\n",
    "for i in dset1_p:\n",
    "    flux_p_fin.append(i)\n",
    "for i in dset1_i:\n",
    "    flux_i_fin.append(i)\n"
   ]
  },
  {
   "cell_type": "code",
   "execution_count": 25,
   "metadata": {},
   "outputs": [],
   "source": [
    "for i in dset2_a:\n",
    "    flux_a_fin.append(i)\n",
    "for i in dset2_p:\n",
    "    flux_p_fin.append(i)\n",
    "for i in dset2_i:\n",
    "    flux_i_fin.append(i)"
   ]
  },
  {
   "cell_type": "code",
   "execution_count": 26,
   "metadata": {},
   "outputs": [],
   "source": [
    "for i in dset3_a:\n",
    "    flux_a_fin.append(i)\n",
    "for i in dset3_p:\n",
    "    flux_p_fin.append(i)\n",
    "for i in dset3_i:\n",
    "    flux_i_fin.append(i)"
   ]
  },
  {
   "cell_type": "code",
   "execution_count": 27,
   "metadata": {},
   "outputs": [],
   "source": [
    "for i in dset4_a:\n",
    "    flux_a_fin.append(i)\n",
    "for i in dset4_p:\n",
    "    flux_p_fin.append(i)\n",
    "for i in dset4_i:\n",
    "    flux_i_fin.append(i)"
   ]
  },
  {
   "cell_type": "code",
   "execution_count": 28,
   "metadata": {},
   "outputs": [],
   "source": [
    "for i in dset5_a:\n",
    "    flux_a_fin.append(i)\n",
    "for i in dset5_p:\n",
    "    flux_p_fin.append(i)\n",
    "for i in dset5_i:\n",
    "    flux_i_fin.append(i)"
   ]
  },
  {
   "cell_type": "code",
   "execution_count": 30,
   "metadata": {},
   "outputs": [
    {
     "name": "stdout",
     "output_type": "stream",
     "text": [
      "(3403, 10000)\n",
      "(3198, 10000)\n",
      "(6150, 10000)\n"
     ]
    }
   ],
   "source": [
    "flux_a_fin = np.asarray(flux_a_fin)\n",
    "flux_p_fin = np.asarray(flux_p_fin)\n",
    "flux_i_fin = np.asarray(flux_i_fin)\n",
    "\n",
    "print(flux_a_fin.shape)\n",
    "print(flux_p_fin.shape)\n",
    "print(flux_i_fin.shape)\n"
   ]
  },
  {
   "cell_type": "code",
   "execution_count": 31,
   "metadata": {},
   "outputs": [
    {
     "name": "stdout",
     "output_type": "stream",
     "text": [
      "(12751, 10000)\n"
     ]
    }
   ],
   "source": [
    "grid_data = []\n",
    "for i in flux_i_fin:\n",
    "    grid_data.append(i)\n",
    "for j in flux_p_fin:\n",
    "    grid_data.append(j)\n",
    "for k in flux_a_fin:\n",
    "    grid_data.append(k)\n",
    "\n",
    "grid_data = np.asarray(grid_data)\n",
    "print(grid_data.shape)"
   ]
  },
  {
   "cell_type": "code",
   "execution_count": 35,
   "metadata": {},
   "outputs": [],
   "source": [
    "reducer = umap.UMAP(init = 'random')\n",
    "embedding = reducer.fit_transform(grid_data)"
   ]
  },
  {
   "cell_type": "code",
   "execution_count": 37,
   "metadata": {},
   "outputs": [],
   "source": [
    "grid_target=[]\n",
    "for i in range(len(flux_i_fin)):\n",
    "    grid_target.append(0)\n",
    "for j in range(len(flux_p_fin)):\n",
    "    grid_target.append(1)\n",
    "for k in range(len(flux_a_fin)):\n",
    "    grid_target.append(2)"
   ]
  },
  {
   "cell_type": "code",
   "execution_count": 40,
   "metadata": {},
   "outputs": [],
   "source": [
    "import matplotlib.pyplot as plt\n",
    "import seaborn as sns"
   ]
  },
  {
   "cell_type": "code",
   "execution_count": 43,
   "metadata": {},
   "outputs": [
    {
     "data": {
      "image/png": "[encoded data removed]",
      "text/plain": [
       "<Figure size 360x360 with 1 Axes>"
      ]
     },
     "metadata": {
      "needs_background": "light"
     },
     "output_type": "display_data"
    }
   ],
   "source": [
    "fig, ax = plt.subplots(figsize = (5,5))\n",
    "ax.scatter(embedding[:, 0], embedding[:, 1], c=[sns.color_palette()[x] for x in grid_target])\n",
    "plt.gca().set_aspect('equal', 'datalim')\n",
    "plt.title('UMAP projection of the 3 grids', fontsize=15);\n",
    "\n",
    "#Blue-intrigoss\n",
    "#Green-ambre\n",
    "#Orange-phoenix"
   ]
  },
  {
   "cell_type": "code",
   "execution_count": null,
   "metadata": {},
   "outputs": [],
   "source": []
  }
 ],
 "metadata": {
  "kernelspec": {
   "display_name": "Python 3",
   "language": "python",
   "name": "python3"
  },
  "language_info": {
   "codemirror_mode": {
    "name": "ipython",
    "version": 3
   },
   "file_extension": ".py",
   "mimetype": "text/x-python",
   "name": "python",
   "nbconvert_exporter": "python",
   "pygments_lexer": "ipython3",
   "version": "3.6.3"
  }
 },
 "nbformat": 4,
 "nbformat_minor": 2
}
