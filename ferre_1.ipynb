{
 "cells": [
  {
   "cell_type": "code",
   "execution_count": 8,
   "metadata": {},
   "outputs": [],
   "source": [
    "import numpy as np\n",
    "import h5py\n",
    "import os"
   ]
  },
  {
   "cell_type": "code",
   "execution_count": null,
   "metadata": {},
   "outputs": [],
   "source": [
    "try:\n",
    "    import cPickle as pickle\n",
    "except ModuleNotFoundError:\n",
    "    import pickle"
   ]
  },
  {
   "cell_type": "code",
   "execution_count": null,
   "metadata": {},
   "outputs": [],
   "source": [
    "scratch = os.getenv('SCRATCH')\n",
    "file = '/f_1.dat'\n",
    "path = scratch+file\n",
    "f = np.loadtxt(path)\n",
    "print(f.shape)\n",
    "#f = []\n",
    "#for i in g:\n",
    "#\tf.append(i)\n",
    "#print(f[431][118465])\n",
    "#indx = 2\n",
    "#print(g[indx][0])\n",
    "#print(f[0])\n",
    "#print(type(f))\n",
    "\n",
    "#print(f[0]/2)\n",
    "\n",
    "print(f)"
   ]
  },
  {
   "cell_type": "code",
   "execution_count": null,
   "metadata": {},
   "outputs": [],
   "source": [
    "#N_P =  12 6 6(12 points of observation in metallicity,6 in teff,6 in logg)\n",
    " \n",
    "feh_ll = -5\n",
    "teff_ll = 3500\n",
    "logg_ll = 0.0\n",
    "\n",
    "feh_ul = 1\n",
    "teff_ul = 6500\n",
    "logg_ul = 6\n",
    "\n",
    "feh_steps = 0.5\n",
    "teff_steps = 500\n",
    "logg_steps = 1"
   ]
  },
  {
   "cell_type": "code",
   "execution_count": null,
   "metadata": {},
   "outputs": [],
   "source": [
    "feh_range = np.arange(feh_ll,feh_ul,feh_steps)\n",
    "teff_range = np.arange(teff_ll,teff_ul,teff_steps)\n",
    "logg_range = np.arange(logg_ll,logg_ul,logg_steps)\n",
    "\n",
    "#print(feh_range)\n",
    "#print(teff_range)\n",
    "#print(logg_range)\n",
    "\n",
    "alpha = 0\n",
    "npix = 1303109\n",
    "\n",
    "wav_a = 3.11394275450217\n",
    "wav_b = 1.3037842524215e-06\n",
    "\n",
    "wav_fun = []\n",
    "\n",
    "print(\"Assigning wavelength array\")\n",
    "\n",
    "for i in range(npix):\n",
    "#\tprint(i)\n",
    "\twav_fun.append(10**(wav_a + wav_b*(i)))"
   ]
  },
  {
   "cell_type": "code",
   "execution_count": null,
   "metadata": {},
   "outputs": [],
   "source": [
    "#print(wav_fun[:10])\n",
    "\n",
    "#param_set = [0,-5,3500,0,[1000,4.566e-2],[1001,4.566e-2]]\n",
    "#print(param_set[4])\n",
    "\n",
    "ferre_1 = []\n",
    "param_set = []\n",
    "\n",
    "indx = 0\n",
    "w = 0\n",
    "flux_count = 0\n",
    "\n",
    "print(\"Entering loop\")\n",
    "\n",
    "for i in feh_range:\n",
    "    for j in teff_range:\n",
    "        for k in logg_range:\n",
    "            w=0\n",
    "            param_set = []\n",
    "            param_set.append(indx)\n",
    "\t\t\t#if indx > 20:\n",
    "\t\t\t#\tbreak\n",
    "            param_set.append(i)\n",
    "            param_set.append(j)\n",
    "            param_set.append(k)\n",
    "            for l in wav_fun:\n",
    "                #w = 0\n",
    "                pair = []\n",
    "                pair.append(l)\n",
    "                pair.append(f[flux_count][w])\n",
    "                #print(\"Flux count:\" + str(flux_count))\n",
    "                param_set.append(pair)\n",
    "                pair = []\n",
    "                w = w + 1\n",
    "            flux_count = flux_count + 1\n",
    "            ferre_1.append(param_set)\n",
    "            indx = indx + 1\n",
    "            #param_set.append()\n",
    "            #param_set.append() "
   ]
  },
  {
   "cell_type": "code",
   "execution_count": null,
   "metadata": {},
   "outputs": [],
   "source": [
    "ferre_1 = np.asarray(ferre_1)\n",
    "print(ferre_1.shape)\n",
    "#print(np.dtype(ferre_1))\n",
    "\n",
    "print(wav_fun[npix-1])\n",
    "\n",
    "print(ferre_1[0])"
   ]
  },
  {
   "cell_type": "code",
   "execution_count": null,
   "metadata": {},
   "outputs": [],
   "source": [
    "ferre_1_fin = []\n",
    "\n",
    "for i in range(432):\n",
    "    ferre_1_fin.append(ferre_1[i])\n",
    "    \n",
    "ferre_1_fin = np.asarray(ferre_1_fin)\n",
    "\n",
    "print(ferre_1_fin.shape)\n",
    "print(ferre_1_fin.dtype)\n",
    "\n"
   ]
  },
  {
   "cell_type": "code",
   "execution_count": null,
   "metadata": {},
   "outputs": [],
   "source": [
    "\n",
    "\n",
    "file_name = 'ferre_3500_6000_100'\n",
    "save_path = scratch + '/' + file_name\n",
    "# Step 2\n",
    "with open(save_path, 'wb') as ferre1_file:\n",
    " \n",
    "  # Step 3\n",
    "  pickle.dump(ferre_1, ferre1_file)"
   ]
  },
  {
   "cell_type": "code",
   "execution_count": null,
   "metadata": {},
   "outputs": [],
   "source": [
    "scratch = os.getenv('SCRATCH')\n",
    "\n",
    "file_name = 'ferre_3500_6000_100'\n",
    "save_path = scratch + '/' + file_name\n",
    " \n",
    "# Step 2\n",
    "with open(save_path, 'rb') as ferre1_file:\n",
    " \n",
    "    # Step 3\n",
    "    ferre_1_re = pickle.load(ferre1_file)\n",
    " \n",
    "    # After config_dictionary is read from file\n",
    "    print(ferre_1_re.shape)"
   ]
  },
  {
   "cell_type": "code",
   "execution_count": null,
   "metadata": {},
   "outputs": [],
   "source": [
    "\n",
    "\n",
    "def ferre_plotter(ferre_1_re):\n",
    "    wav = []\n",
    "    flux = []\n",
    "    #print(ferre_1_re[0])\n",
    "    \n",
    "    #print(ferre_1_re[0][4])\n",
    "\n",
    "\n",
    "\n",
    "    for i in ferre_1_re[0][4:]:\n",
    "        wav.append(i[0])\n",
    "        flux.append(i[1])\n",
    "    \n",
    "    return wav,flux"
   ]
  },
  {
   "cell_type": "code",
   "execution_count": null,
   "metadata": {},
   "outputs": [],
   "source": [
    "wav,flux = ferre_plotter(ferre_1_re)"
   ]
  },
  {
   "cell_type": "code",
   "execution_count": null,
   "metadata": {},
   "outputs": [],
   "source": [
    "import numpy as np\n",
    "#wave_grid_obs = np.linspace(4835,5395,num=10000)\n",
    "\n",
    "wav_ferre = []\n",
    "flux_ferre = []\n",
    "\n",
    "for i in range(118466):\n",
    "    #if wav[i] >= 4835 and wav[i] <= 5395:\n",
    "        wav_ferre.append(wav[i])\n",
    "        flux_ferre.append(flux[i])\n",
    "        \n",
    "\n",
    "\n",
    "#flux_bench, cont = continuum_normalize(flux, line_regions, wave_grid_uves, 10)"
   ]
  },
  {
   "cell_type": "code",
   "execution_count": null,
   "metadata": {},
   "outputs": [],
   "source": [
    "print(len(wav_ferre))\n",
    "print(len(flux_ferre))\n",
    "\n"
   ]
  },
  {
   "cell_type": "code",
   "execution_count": null,
   "metadata": {},
   "outputs": [],
   "source": [
    "print(ferre_1_re)"
   ]
  },
  {
   "cell_type": "code",
   "execution_count": null,
   "metadata": {},
   "outputs": [],
   "source": [
    "import matplotlib.pyplot as plt\n",
    "\n",
    "%matplotlib inline\n",
    "plt.plot(wav_ferre,flux_ferre)\n",
    "plt.figure(figsize=(32,32))\n"
   ]
  },
  {
   "cell_type": "code",
   "execution_count": null,
   "metadata": {},
   "outputs": [],
   "source": []
  }
 ],
 "metadata": {
  "kernelspec": {
   "display_name": "Python 3",
   "language": "python",
   "name": "python3"
  },
  "language_info": {
   "codemirror_mode": {
    "name": "ipython",
    "version": 3
   },
   "file_extension": ".py",
   "mimetype": "text/x-python",
   "name": "python",
   "nbconvert_exporter": "python",
   "pygments_lexer": "ipython3",
   "version": "3.6.3"
  }
 },
 "nbformat": 4,
 "nbformat_minor": 2
}
